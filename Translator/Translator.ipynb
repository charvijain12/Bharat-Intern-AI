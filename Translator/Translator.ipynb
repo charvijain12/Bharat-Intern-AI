{
 "cells": [
  {
   "cell_type": "markdown",
   "id": "3db3c0bc",
   "metadata": {},
   "source": [
    "# Bharat Intern - AI Intern\n",
    "\n",
    "## Task 3 - Translator Tool"
   ]
  },
  {
   "cell_type": "code",
   "execution_count": 2,
   "id": "0b681a77",
   "metadata": {},
   "outputs": [
    {
     "name": "stdout",
     "output_type": "stream",
     "text": [
      "Enter 'q' to quit or 't' to translate: t\n",
      "Enter the text to translate: hello\n",
      "Enter the target language: hindi\n"
     ]
    },
    {
     "data": {
      "text/html": [
       "<b>Source Language:</b> en"
      ],
      "text/plain": [
       "<IPython.core.display.HTML object>"
      ]
     },
     "metadata": {},
     "output_type": "display_data"
    },
    {
     "data": {
      "text/html": [
       "<b>Translated Text:</b> नमस्ते"
      ],
      "text/plain": [
       "<IPython.core.display.HTML object>"
      ]
     },
     "metadata": {},
     "output_type": "display_data"
    },
    {
     "name": "stdout",
     "output_type": "stream",
     "text": [
      "Enter 'q' to quit or 't' to translate: t\n",
      "Enter the text to translate: kaise ho\n",
      "Enter the target language: english\n"
     ]
    },
    {
     "data": {
      "text/html": [
       "<b>Source Language:</b> hi"
      ],
      "text/plain": [
       "<IPython.core.display.HTML object>"
      ]
     },
     "metadata": {},
     "output_type": "display_data"
    },
    {
     "data": {
      "text/html": [
       "<b>Translated Text:</b> How are you"
      ],
      "text/plain": [
       "<IPython.core.display.HTML object>"
      ]
     },
     "metadata": {},
     "output_type": "display_data"
    },
    {
     "name": "stdout",
     "output_type": "stream",
     "text": [
      "Enter 'q' to quit or 't' to translate: q\n",
      "Quitting the translator tool...\n"
     ]
    }
   ],
   "source": [
    "from googletrans import Translator\n",
    "from IPython.display import display, HTML\n",
    "\n",
    "translator = Translator(service_urls=['translate.google.com'])\n",
    "\n",
    "def translate_text(text, target_language):\n",
    "    translation = translator.translate(text, dest=target_language)\n",
    "    translated_text = translation.text\n",
    "    source_language = translation.src\n",
    "    \n",
    "    display(HTML(f'<b>Source Language:</b> {source_language}'))\n",
    "    display(HTML(f'<b>Translated Text:</b> {translated_text}'))\n",
    "\n",
    "while True:\n",
    "    choice = input(\"Enter 'q' to quit or 't' to translate: \")\n",
    "    \n",
    "    if choice.lower() == 'q':\n",
    "        print(\"Quitting the translator tool...\")\n",
    "        break\n",
    "    \n",
    "    if choice.lower() == 't':\n",
    "        text = input(\"Enter the text to translate: \")\n",
    "        target_language = input(\"Enter the target language: \")\n",
    "        translate_text(text, target_language)\n",
    "    else:\n",
    "        print(\"Invalid choice. Please try again.\")\n",
    "\n"
   ]
  },
  {
   "cell_type": "code",
   "execution_count": null,
   "id": "c910afd0",
   "metadata": {},
   "outputs": [],
   "source": []
  }
 ],
 "metadata": {
  "kernelspec": {
   "display_name": "Python 3 (ipykernel)",
   "language": "python",
   "name": "python3"
  },
  "language_info": {
   "codemirror_mode": {
    "name": "ipython",
    "version": 3
   },
   "file_extension": ".py",
   "mimetype": "text/x-python",
   "name": "python",
   "nbconvert_exporter": "python",
   "pygments_lexer": "ipython3",
   "version": "3.9.7"
  }
 },
 "nbformat": 4,
 "nbformat_minor": 5
}
