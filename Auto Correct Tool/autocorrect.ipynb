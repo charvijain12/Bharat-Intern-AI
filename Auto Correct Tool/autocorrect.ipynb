{
 "cells": [
  {
   "cell_type": "markdown",
   "id": "0d371ed3",
   "metadata": {},
   "source": [
    "# Bharat Intern - AI Intern\n",
    "\n",
    "## Task 2 - Autocorrect tool"
   ]
  },
  {
   "cell_type": "code",
   "execution_count": 1,
   "id": "2c40fc8b",
   "metadata": {},
   "outputs": [
    {
     "name": "stdout",
     "output_type": "stream",
     "text": [
      "Enter a word (or 'q' to quit): alibity\n",
      "Original word: alibity\n",
      "Corrected word: ability\n",
      "\n",
      "Enter a word (or 'q' to quit): counrty\n",
      "Original word: counrty\n",
      "Corrected word: country\n",
      "\n",
      "Enter a word (or 'q' to quit): q\n"
     ]
    }
   ],
   "source": [
    "import re\n",
    "from collections import Counter\n",
    "\n",
    "def words(text):\n",
    "    return re.findall(r'\\w+', text.lower())\n",
    "\n",
    "def train(features):\n",
    "    model = Counter(features)\n",
    "    return model\n",
    "\n",
    "def autocorrect(word, word_model):\n",
    "    candidates = known([word], word_model) or known(edits1(word), word_model) or known(edits2(word), word_model) or [word]\n",
    "    return max(candidates, key=word_model.get)\n",
    "\n",
    "def known(words, word_model):\n",
    "    return set(w for w in words if w in word_model)\n",
    "\n",
    "def edits1(word):\n",
    "    letters = 'abcdefghijklmnopqrstuvwxyz'\n",
    "    splits = [(word[:i], word[i:]) for i in range(len(word) + 1)]\n",
    "    deletes = [L + R[1:] for L, R in splits if R]\n",
    "    transposes = [L + R[1] + R[0] + R[2:] for L, R in splits if len(R) > 1]\n",
    "    replaces = [L + c + R[1:] for L, R in splits if R for c in letters]\n",
    "    inserts = [L + c + R for L, R in splits for c in letters]\n",
    "    return set(deletes + transposes + replaces + inserts)\n",
    "\n",
    "def edits2(word):\n",
    "    return (e2 for e1 in edits1(word) for e2 in edits1(e1))\n",
    "\n",
    "# Train the model on a text corpus\n",
    "text_corpus = open('big.txt').read()\n",
    "word_list = words(text_corpus)\n",
    "word_model = train(word_list)\n",
    "\n",
    "# Interactive autocorrect\n",
    "while True:\n",
    "    word = input(\"Enter a word (or 'q' to quit): \")\n",
    "    if word == 'q':\n",
    "        break\n",
    "    corrected_word = autocorrect(word, word_model)\n",
    "    print(f\"Original word: {word}\")\n",
    "    print(f\"Corrected word: {corrected_word}\")\n",
    "    print()\n"
   ]
  },
  {
   "cell_type": "code",
   "execution_count": null,
   "id": "1fe4a1a9",
   "metadata": {},
   "outputs": [],
   "source": []
  }
 ],
 "metadata": {
  "kernelspec": {
   "display_name": "Python 3 (ipykernel)",
   "language": "python",
   "name": "python3"
  },
  "language_info": {
   "codemirror_mode": {
    "name": "ipython",
    "version": 3
   },
   "file_extension": ".py",
   "mimetype": "text/x-python",
   "name": "python",
   "nbconvert_exporter": "python",
   "pygments_lexer": "ipython3",
   "version": "3.9.7"
  }
 },
 "nbformat": 4,
 "nbformat_minor": 5
}
