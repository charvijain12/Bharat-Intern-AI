{
 "cells": [
  {
   "cell_type": "markdown",
   "id": "023bc737",
   "metadata": {},
   "source": [
    "# Bharat Intern - AI Intern\n",
    "\n",
    "## Task 1 - Resume Parser using NTLK "
   ]
  },
  {
   "cell_type": "code",
   "execution_count": 1,
   "id": "7196c337",
   "metadata": {},
   "outputs": [
    {
     "name": "stderr",
     "output_type": "stream",
     "text": [
      "[nltk_data] Downloading package averaged_perceptron_tagger to\n",
      "[nltk_data]     C:\\Users\\CHARVI JAIN\\AppData\\Roaming\\nltk_data...\n",
      "[nltk_data]   Package averaged_perceptron_tagger is already up-to-\n",
      "[nltk_data]       date!\n",
      "[nltk_data] Downloading package stopwords to C:\\Users\\CHARVI\n",
      "[nltk_data]     JAIN\\AppData\\Roaming\\nltk_data...\n",
      "[nltk_data]   Package stopwords is already up-to-date!\n",
      "[nltk_data] Downloading package wordnet to C:\\Users\\CHARVI\n",
      "[nltk_data]     JAIN\\AppData\\Roaming\\nltk_data...\n",
      "[nltk_data]   Package wordnet is already up-to-date!\n",
      "[nltk_data] Downloading package omw-1.4 to C:\\Users\\CHARVI\n",
      "[nltk_data]     JAIN\\AppData\\Roaming\\nltk_data...\n",
      "[nltk_data]   Package omw-1.4 is already up-to-date!\n"
     ]
    }
   ],
   "source": [
    "import pandas as pd\n",
    "import spacy\n",
    "import nltk\n",
    "import matplotlib.pyplot as plt\n",
    "nltk.download('averaged_perceptron_tagger')\n",
    "from nltk import pos_tag\n",
    "from nltk.corpus import stopwords\n",
    "nltk.download('stopwords')\n",
    "nltk.download('wordnet')\n",
    "nltk.download('omw-1.4')\n",
    "import string\n",
    "import re"
   ]
  },
  {
   "cell_type": "markdown",
   "id": "f707f229",
   "metadata": {},
   "source": [
    "### Displaying the skills required"
   ]
  },
  {
   "cell_type": "code",
   "execution_count": 2,
   "id": "f98dd6ea",
   "metadata": {},
   "outputs": [
    {
     "data": {
      "text/plain": [
       "'Data mining or extracting usable data from valuable data sources Using machine learning tools to select features, create and optimize classifiers Carrying out preprocessing of structured and unstructured data Enhancing data collection procedures to include all relevant information for developing analytic systems Processing, cleansing, and validating the integrity of data to be used for analysis Analyzing large amounts of information to find patterns and solutions Developing prediction systems and machine learning algorithms Presenting results in a clear manner Propose solutions and strategies to tackle business challenges Collaborate with Business and IT teams Become a Data Science Expert & Get Your Dream Job Professional Certificate Program In Data ScienceEXPLORE PROGRAMBecome a Data Science Expert & Get Your Dream Job Data Scientist Skills You need to master the skills required for data scientist jobs in various industries and organizations if you want to pursue a data scientist career. Let’s look at the must-have data scientist qualifications. Key skills needed to become a data scientist: Programming Skills – knowledge of statistical programming languages like R, Python, and database query languages like SQL, Hive, Pig is desirable. Familiarity with Scala, Java, or C++ is an added advantage. Statistics – Good applied statistical skills, including knowledge of statistical tests, distributions, regression, maximum likelihood estimators, etc. Proficiency in statistics is essential for data-driven companies. Machine Learning – good knowledge of machine learning methods like k-Nearest Neighbors, Naive Bayes, SVM, Decision Forests. Strong Math Skills (Multivariable Calculus and Linear Algebra) - understanding the fundamentals of Multivariable Calculus and Linear Algebra is important as they form the basis of a lot of predictive performance or algorithm optimization techniques. Data Wrangling – proficiency in handling imperfections in data is an important aspect of a data scientist job description. Experience with Data Visualization Tools like matplotlib, ggplot, d3.js., Tableau that help to visually encode data Excellent Communication Skills – it is incredibly important to describe findings to a technical and non-technical audience. Strong Software Engineering Background Hands-on experience with data science tools Problem-solving aptitude Analytical mind and great business sense Degree in Computer Science, Engineering or relevant field is preferred Proven Experience as Data Analyst or Data Scientist'"
      ]
     },
     "execution_count": 2,
     "metadata": {},
     "output_type": "execute_result"
    }
   ],
   "source": [
    "skills=\"Data mining or extracting usable data from valuable data sources Using machine learning tools to select features, create and optimize classifiers Carrying out preprocessing of structured and unstructured data Enhancing data collection procedures to include all relevant information for developing analytic systems Processing, cleansing, and validating the integrity of data to be used for analysis Analyzing large amounts of information to find patterns and solutions Developing prediction systems and machine learning algorithms Presenting results in a clear manner Propose solutions and strategies to tackle business challenges Collaborate with Business and IT teams Become a Data Science Expert & Get Your Dream Job Professional Certificate Program In Data ScienceEXPLORE PROGRAMBecome a Data Science Expert & Get Your Dream Job Data Scientist Skills You need to master the skills required for data scientist jobs in various industries and organizations if you want to pursue a data scientist career. Let’s look at the must-have data scientist qualifications. Key skills needed to become a data scientist: Programming Skills – knowledge of statistical programming languages like R, Python, and database query languages like SQL, Hive, Pig is desirable. Familiarity with Scala, Java, or C++ is an added advantage. Statistics – Good applied statistical skills, including knowledge of statistical tests, distributions, regression, maximum likelihood estimators, etc. Proficiency in statistics is essential for data-driven companies. Machine Learning – good knowledge of machine learning methods like k-Nearest Neighbors, Naive Bayes, SVM, Decision Forests. Strong Math Skills (Multivariable Calculus and Linear Algebra) - understanding the fundamentals of Multivariable Calculus and Linear Algebra is important as they form the basis of a lot of predictive performance or algorithm optimization techniques. Data Wrangling – proficiency in handling imperfections in data is an important aspect of a data scientist job description. Experience with Data Visualization Tools like matplotlib, ggplot, d3.js., Tableau that help to visually encode data Excellent Communication Skills – it is incredibly important to describe findings to a technical and non-technical audience. Strong Software Engineering Background Hands-on experience with data science tools Problem-solving aptitude Analytical mind and great business sense Degree in Computer Science, Engineering or relevant field is preferred Proven Experience as Data Analyst or Data Scientist\"\n",
    "skills"
   ]
  },
  {
   "cell_type": "markdown",
   "id": "ca99f88b",
   "metadata": {},
   "source": [
    "### Preprocessing of skills data"
   ]
  },
  {
   "cell_type": "code",
   "execution_count": 3,
   "id": "ae6e6470",
   "metadata": {},
   "outputs": [],
   "source": [
    "text_nonpunc=''.join([char for char in skills if char not in string.punctuation])\n",
    "skills=text_nonpunc\n",
    "tokens=re.split('\\W+',skills)\n",
    "skills=tokens\n",
    "stop_words=set(stopwords.words('english'))\n",
    "re_sw=[word for word in skills if word not in stop_words]\n",
    "skills=re_sw\n",
    "ln=nltk.WordNetLemmatizer()\n",
    "lemm=[ln.lemmatize(word) for word in skills]\n",
    "skills=lemm"
   ]
  },
  {
   "cell_type": "code",
   "execution_count": 4,
   "id": "c81cef4e",
   "metadata": {},
   "outputs": [],
   "source": [
    "nlp = spacy.load(\"en_core_web_sm\")\n",
    "doc=nlp(' '.join([char for char in skills]))\n",
    "def tot_list(text):\n",
    "  return set(' '.join([char for char in text]).lower().split(' '))\n",
    "skills_list=set(' '.join([chunk.text for chunk in doc.noun_chunks]+[token.lemma_ for token in doc if token.pos_ == \"VERB\"]+[entity.text for entity in doc.ents]).lower().split(' '))"
   ]
  },
  {
   "cell_type": "markdown",
   "id": "1c3f9859",
   "metadata": {},
   "source": [
    "### Displaying the skills list"
   ]
  },
  {
   "cell_type": "code",
   "execution_count": 5,
   "id": "a4a01694",
   "metadata": {},
   "outputs": [
    {
     "data": {
      "text/plain": [
       "{'add',\n",
       " 'advantage',\n",
       " 'algebra',\n",
       " 'algorithm',\n",
       " 'amount',\n",
       " 'analysis',\n",
       " 'analyst',\n",
       " 'analytic',\n",
       " 'analytical',\n",
       " 'analyze',\n",
       " 'apply',\n",
       " 'aptitude',\n",
       " 'aspect',\n",
       " 'audience',\n",
       " 'background',\n",
       " 'bayes',\n",
       " 'become',\n",
       " 'business',\n",
       " 'c',\n",
       " 'calculus',\n",
       " 'career',\n",
       " 'carry',\n",
       " 'certificate',\n",
       " 'challenge',\n",
       " 'clear',\n",
       " 'collaborate',\n",
       " 'collection',\n",
       " 'communication',\n",
       " 'computer',\n",
       " 'create',\n",
       " 'data',\n",
       " 'database',\n",
       " 'decision',\n",
       " 'degree',\n",
       " 'describe',\n",
       " 'description',\n",
       " 'desirable',\n",
       " 'develop',\n",
       " 'dream',\n",
       " 'encode',\n",
       " 'engineering',\n",
       " 'enhancing',\n",
       " 'excellent',\n",
       " 'experience',\n",
       " 'expert',\n",
       " 'extract',\n",
       " 'familiarity',\n",
       " 'feature',\n",
       " 'field',\n",
       " 'find',\n",
       " 'forests',\n",
       " 'form',\n",
       " 'fundamental',\n",
       " 'get',\n",
       " 'ggplot',\n",
       " 'good',\n",
       " 'great',\n",
       " 'handle',\n",
       " 'handson',\n",
       " 'help',\n",
       " 'hive',\n",
       " 'imperfection',\n",
       " 'important',\n",
       " 'include',\n",
       " 'incredibly',\n",
       " 'information',\n",
       " 'integrity',\n",
       " 'it',\n",
       " 'java',\n",
       " 'job',\n",
       " 'key',\n",
       " 'knearest',\n",
       " 'knowledge',\n",
       " 'language',\n",
       " 'large',\n",
       " 'learn',\n",
       " 'learning',\n",
       " 'let',\n",
       " 'linear',\n",
       " 'look',\n",
       " 'machine',\n",
       " 'manner',\n",
       " 'master',\n",
       " 'math',\n",
       " 'matplotlib',\n",
       " 'mind',\n",
       " 'mining',\n",
       " 'multivariable',\n",
       " 'musthave',\n",
       " 'naive',\n",
       " 'need',\n",
       " 'neighbors',\n",
       " 'nontechnical',\n",
       " 'pattern',\n",
       " 'pig',\n",
       " 'prediction',\n",
       " 'prefer',\n",
       " 'preferred',\n",
       " 'preprocesse',\n",
       " 'presenting',\n",
       " 'problemsolve',\n",
       " 'problemsolving',\n",
       " 'procedure',\n",
       " 'processing',\n",
       " 'professional',\n",
       " 'proficiency',\n",
       " 'program',\n",
       " 'programbecome',\n",
       " 'programming',\n",
       " 'propose',\n",
       " 'proven',\n",
       " 'pursue',\n",
       " 'python',\n",
       " 'qualification',\n",
       " 'query',\n",
       " 'r',\n",
       " 'relevant',\n",
       " 'require',\n",
       " 'result',\n",
       " 'scala',\n",
       " 'science',\n",
       " 'scienceexplore',\n",
       " 'scientist',\n",
       " 'select',\n",
       " 'sense',\n",
       " 'skill',\n",
       " 'skills',\n",
       " 'software',\n",
       " 'solution',\n",
       " 'source',\n",
       " 'sql',\n",
       " 'statistic',\n",
       " 'statistical',\n",
       " 'statistics',\n",
       " 'strategy',\n",
       " 'strong',\n",
       " 'structure',\n",
       " 'structured',\n",
       " 'svm',\n",
       " 'system',\n",
       " 'tableau',\n",
       " 'tackle',\n",
       " 'team',\n",
       " 'technical',\n",
       " 'tool',\n",
       " 'tools',\n",
       " 'understand',\n",
       " 'unstructured',\n",
       " 'usable',\n",
       " 'use',\n",
       " 'validate',\n",
       " 'validating',\n",
       " 'valuable',\n",
       " 'visualization',\n",
       " 'visually',\n",
       " 'want',\n",
       " 'wrangle',\n",
       " 'wrangling',\n",
       " 'you',\n",
       " 'your'}"
      ]
     },
     "execution_count": 5,
     "metadata": {},
     "output_type": "execute_result"
    }
   ],
   "source": [
    "skills_list"
   ]
  },
  {
   "cell_type": "markdown",
   "id": "04056cc1",
   "metadata": {},
   "source": [
    "### Loading the dataset"
   ]
  },
  {
   "cell_type": "code",
   "execution_count": 6,
   "id": "91c449e7",
   "metadata": {},
   "outputs": [],
   "source": [
    "df=pd.read_csv('UpdatedResumeDataSet.csv')"
   ]
  },
  {
   "cell_type": "code",
   "execution_count": 7,
   "id": "78aa984a",
   "metadata": {},
   "outputs": [
    {
     "data": {
      "text/html": [
       "<div>\n",
       "<style scoped>\n",
       "    .dataframe tbody tr th:only-of-type {\n",
       "        vertical-align: middle;\n",
       "    }\n",
       "\n",
       "    .dataframe tbody tr th {\n",
       "        vertical-align: top;\n",
       "    }\n",
       "\n",
       "    .dataframe thead th {\n",
       "        text-align: right;\n",
       "    }\n",
       "</style>\n",
       "<table border=\"1\" class=\"dataframe\">\n",
       "  <thead>\n",
       "    <tr style=\"text-align: right;\">\n",
       "      <th></th>\n",
       "      <th>Category</th>\n",
       "      <th>Resume</th>\n",
       "    </tr>\n",
       "  </thead>\n",
       "  <tbody>\n",
       "    <tr>\n",
       "      <th>0</th>\n",
       "      <td>Data Science</td>\n",
       "      <td>Skills * Programming Languages: Python (pandas...</td>\n",
       "    </tr>\n",
       "    <tr>\n",
       "      <th>1</th>\n",
       "      <td>Data Science</td>\n",
       "      <td>Education Details \\r\\nMay 2013 to May 2017 B.E...</td>\n",
       "    </tr>\n",
       "    <tr>\n",
       "      <th>2</th>\n",
       "      <td>Data Science</td>\n",
       "      <td>Areas of Interest Deep Learning, Control Syste...</td>\n",
       "    </tr>\n",
       "    <tr>\n",
       "      <th>3</th>\n",
       "      <td>Data Science</td>\n",
       "      <td>Skills â¢ R â¢ Python â¢ SAP HANA â¢ Table...</td>\n",
       "    </tr>\n",
       "    <tr>\n",
       "      <th>4</th>\n",
       "      <td>Data Science</td>\n",
       "      <td>Education Details \\r\\n MCA   YMCAUST,  Faridab...</td>\n",
       "    </tr>\n",
       "  </tbody>\n",
       "</table>\n",
       "</div>"
      ],
      "text/plain": [
       "       Category                                             Resume\n",
       "0  Data Science  Skills * Programming Languages: Python (pandas...\n",
       "1  Data Science  Education Details \\r\\nMay 2013 to May 2017 B.E...\n",
       "2  Data Science  Areas of Interest Deep Learning, Control Syste...\n",
       "3  Data Science  Skills â¢ R â¢ Python â¢ SAP HANA â¢ Table...\n",
       "4  Data Science  Education Details \\r\\n MCA   YMCAUST,  Faridab..."
      ]
     },
     "execution_count": 7,
     "metadata": {},
     "output_type": "execute_result"
    }
   ],
   "source": [
    "df.head()"
   ]
  },
  {
   "cell_type": "code",
   "execution_count": 8,
   "id": "8592107f",
   "metadata": {},
   "outputs": [
    {
     "name": "stdout",
     "output_type": "stream",
     "text": [
      "<class 'pandas.core.frame.DataFrame'>\n",
      "RangeIndex: 962 entries, 0 to 961\n",
      "Data columns (total 2 columns):\n",
      " #   Column    Non-Null Count  Dtype \n",
      "---  ------    --------------  ----- \n",
      " 0   Category  962 non-null    object\n",
      " 1   Resume    962 non-null    object\n",
      "dtypes: object(2)\n",
      "memory usage: 15.2+ KB\n"
     ]
    }
   ],
   "source": [
    "df.info()"
   ]
  },
  {
   "cell_type": "markdown",
   "id": "962aa45b",
   "metadata": {},
   "source": [
    "### There are total 962 records in dataset without any null values"
   ]
  },
  {
   "cell_type": "markdown",
   "id": "be1c9cbc",
   "metadata": {},
   "source": [
    "### Column Overview"
   ]
  },
  {
   "cell_type": "markdown",
   "id": "f8831460",
   "metadata": {},
   "source": [
    "1. Category = It describes about the role/field of the job which the applicants are insterested in\n",
    "\n",
    "2. Resume = It consists of the skills mentioned by the candidates"
   ]
  },
  {
   "cell_type": "code",
   "execution_count": 9,
   "id": "1a0b6028",
   "metadata": {},
   "outputs": [
    {
     "data": {
      "text/plain": [
       "Java Developer               84\n",
       "Testing                      70\n",
       "DevOps Engineer              55\n",
       "Python Developer             48\n",
       "Web Designing                45\n",
       "HR                           44\n",
       "Hadoop                       42\n",
       "Blockchain                   40\n",
       "ETL Developer                40\n",
       "Operations Manager           40\n",
       "Data Science                 40\n",
       "Sales                        40\n",
       "Mechanical Engineer          40\n",
       "Arts                         36\n",
       "Database                     33\n",
       "Electrical Engineering       30\n",
       "Health and fitness           30\n",
       "PMO                          30\n",
       "Business Analyst             28\n",
       "DotNet Developer             28\n",
       "Automation Testing           26\n",
       "Network Security Engineer    25\n",
       "SAP Developer                24\n",
       "Civil Engineer               24\n",
       "Advocate                     20\n",
       "Name: Category, dtype: int64"
      ]
     },
     "execution_count": 9,
     "metadata": {},
     "output_type": "execute_result"
    }
   ],
   "source": [
    "df['Category'].value_counts()"
   ]
  },
  {
   "cell_type": "code",
   "execution_count": 10,
   "id": "d7bc6119",
   "metadata": {},
   "outputs": [
    {
     "data": {
      "text/plain": [
       "25"
      ]
     },
     "execution_count": 10,
     "metadata": {},
     "output_type": "execute_result"
    }
   ],
   "source": [
    "len(df['Category'].value_counts())"
   ]
  }
 ],
 "metadata": {
  "kernelspec": {
   "display_name": "Python 3 (ipykernel)",
   "language": "python",
   "name": "python3"
  },
  "language_info": {
   "codemirror_mode": {
    "name": "ipython",
    "version": 3
   },
   "file_extension": ".py",
   "mimetype": "text/x-python",
   "name": "python",
   "nbconvert_exporter": "python",
   "pygments_lexer": "ipython3",
   "version": "3.9.7"
  }
 },
 "nbformat": 4,
 "nbformat_minor": 5
}
